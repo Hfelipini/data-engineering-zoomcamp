{
 "cells": [
  {
   "attachments": {},
   "cell_type": "markdown",
   "metadata": {},
   "source": [
    "Selecionar o Caminho: C:\\Users\\hfeli\\OneDrive\\Documents\\Cursos\\Data Engineering\\Projects\\data-engineering-zoomcamp\\week_1_basics_n_setup\\2_docker_sql\n",
    "\n",
    "Botão direito na pasta 2_docker_sql - Selecionar GIT Bash Here\n",
    "\n",
    "Ligar o Docker e aguardar carregamento"
   ]
  },
  {
   "attachments": {},
   "cell_type": "markdown",
   "metadata": {},
   "source": [
    "No Git Bash aberto, rodar o Postgres:\n",
    "\n",
    "winpty docker run -it \\\n",
    "  -e POSTGRES_USER=\"root\" \\\n",
    "  -e POSTGRES_PASSWORD=\"root\" \\\n",
    "  -e POSTGRES_DB=\"ny_taxi\" \\\n",
    "  -v \"c:/Users/hfeli/OneDrive/Documents/Cursos/Data Engineering/Projects/data-engineering-zoomcamp/week_1_basics_n_setup/2_docker_sql/ny_taxi_postgres_data:/var/lib/postgresql/data\" \\\n",
    "  -p 5432:5432 \\\n",
    "  postgres:13"
   ]
  },
  {
   "attachments": {},
   "cell_type": "markdown",
   "metadata": {},
   "source": [
    "Com a mensagem: 2023-01-22 18:38:05.484 UTC [1] LOG:  database system is ready to accept connections\n",
    "\n",
    "Abrir uma nova janela do Git Bash e rodar:\n",
    "\n",
    "winpty pgcli -h localhost -p 5432 -u root -d ny_taxi\n",
    "Em password escrever root"
   ]
  },
  {
   "attachments": {},
   "cell_type": "markdown",
   "metadata": {},
   "source": [
    "Abrir uma nova janela do Git Bash e instalar jupyter\n",
    "pip install jupyter\n",
    "\n",
    "Após instalado, passar o comando:\n",
    "jupyter notebook\n",
    "\n",
    "Uma nova aba com o Jupyter irá carregar no chrome, clique em *New* e selecione *Python 3*\n",
    "Abrir uma nova janela do Git Bash e fazer download dos dados:\n",
    "Comando: python -m wget https://github.com/DataTalksClub/nyc-tlc-data/releases/download/yellow/yellow_tripdata_2021-01.csv.gz"
   ]
  },
  {
   "attachments": {},
   "cell_type": "markdown",
   "metadata": {},
   "source": [
    "Ao rodar o arquivo \"upload-data.ipynb\", retornar ao terminal do winpty pgcli e rodar o código:\n",
    "SELECT count(1) FROM yellow_taxi_data;\n",
    "Irá retornar as 1369765 linhas do arquivo original"
   ]
  },
  {
   "attachments": {},
   "cell_type": "markdown",
   "metadata": {},
   "source": [
    "Abrir um novo Terminal e rodar o código abaixo para conectar o PgAdmin:\n",
    "winpty docker run -it \\\n",
    "    -e PGADMIN_DEFAULT_EMAIL=\"admin@admin.com\" \\\n",
    "    -e PGADMIN_DEFAULT_PASSWORD=\"root\" \\\n",
    "    -p 8080:80 \\\n",
    "    dpage/pgadmin4"
   ]
  },
  {
   "attachments": {},
   "cell_type": "markdown",
   "metadata": {},
   "source": [
    "Acessar o site localhost:8080\n",
    "Colocar e-mail e senha acima\n",
    "Clique no botão Add New Server\n",
    "Em General -> Name -> Local docker\n",
    "Connection:\n",
    "host - localhost\n",
    "Port 5432\n",
    "Database - Postgres\n",
    "Username - root\n",
    "Passwrod - root\n",
    "\n",
    "Não conecta pois estão em containers diferentes no Docker.\n",
    "Criar uma conexão entre os dois para que possam se conectar"
   ]
  },
  {
   "attachments": {},
   "cell_type": "markdown",
   "metadata": {},
   "source": [
    "Apertar CTRL+C no terminal com Postgres para cancelar o servidor e então rodar: *docker network create pg-network* para criar a conexão\n",
    "Com a conexão criada, rodar o novo código:\n",
    "winpty docker run -it \\\n",
    "  -e POSTGRES_USER=\"root\" \\\n",
    "  -e POSTGRES_PASSWORD=\"root\" \\\n",
    "  -e POSTGRES_DB=\"ny_taxi\" \\\n",
    "  -v \"c:/Users/hfeli/OneDrive/Documents/Cursos/Data Engineering/Projects/data-engineering-zoomcamp/week_1_basics_n_setup/2_docker_sql/ny_taxi_postgres_data:/var/lib/postgresql/data\" \\\n",
    "  -p 5432:5432 \\\n",
    "  --network=pg-network \\\n",
    "  --name pg-database \\\n",
    "  postgres:13"
   ]
  },
  {
   "attachments": {},
   "cell_type": "markdown",
   "metadata": {},
   "source": [
    "Rodar o PgAdmin na mesma rede:\n",
    "winpty docker run -it \\\n",
    "    -e PGADMIN_DEFAULT_EMAIL=\"admin@admin.com\" \\\n",
    "    -e PGADMIN_DEFAULT_PASSWORD=\"root\" \\\n",
    "    -p 8080:80 \\\n",
    "    --network=pg-network \\\n",
    "    --name pgadmin-2 \\\n",
    "    dpage/pgadmin4"
   ]
  },
  {
   "attachments": {},
   "cell_type": "markdown",
   "metadata": {},
   "source": [
    "Abrir novamente o site localhost:8080 com o e-mail admin e senha\n",
    "Criar um novo servidor e em Connection adicionar o Hostname/address *pg-database* para ele conseguir se conectar ao container através da conexão criada"
   ]
  },
  {
   "attachments": {},
   "cell_type": "markdown",
   "metadata": {},
   "source": [
    "Fazer um Drop Table para limpar os dados e então baixar os arquivos via código\n",
    "\n",
    "URL=\"https://github.com/DataTalksClub/nyc-tlc-data/releases/download/yellow/yellow_tripdata_2021-01.csv.gz\"\n",
    "\n",
    "python ingest-data.py \\\n",
    "    --user=root \\ \n",
    "    --password=root \\\n",
    "    --host=localhost \\\n",
    "    --port=5432 \\\n",
    "    --db=ny_taxi \\\n",
    "    --table_name=yellow_taxi_trips \\\n",
    "    --url=${URL}"
   ]
  },
  {
   "attachments": {},
   "cell_type": "markdown",
   "metadata": {},
   "source": [
    "Rodar para baixar os arquivos e fazer a ingestão na base de dados via código\n",
    "\n",
    "URL=\"https://github.com/DataTalksClub/nyc-tlc-data/releases/download/yellow/yellow_tripdata_2021-01.csv.gz\"\n",
    "\n",
    "python ingest-data.py --user=root --password=root --host=localhost --port=5432 --db=ny_taxi --table_name=yellow_taxi_trips --url=${URL}"
   ]
  },
  {
   "attachments": {},
   "cell_type": "markdown",
   "metadata": {},
   "source": [
    "Criar um container do que foi criado\n",
    "winpty docker build -t taxi_ingest:v001 ."
   ]
  },
  {
   "attachments": {},
   "cell_type": "markdown",
   "metadata": {},
   "source": [
    "Após completar, rodar o código abaixo para rodar o que está no container:\n",
    "\n",
    "URL=\"https://github.com/DataTalksClub/nyc-tlc-data/releases/download/yellow/yellow_tripdata_2021-01.csv.gz\"\n",
    "\n",
    "winpty docker run -it \\\n",
    "  --network=pg-network \\\n",
    "  taxi_ingest:v001 \\\n",
    "    --user=root \\\n",
    "    --password=root \\\n",
    "    --host=pg-database \\\n",
    "    --port=5432 \\\n",
    "    --db=ny_taxi \\\n",
    "    --table_name=yellow_taxi_trips \\\n",
    "    --url=${URL}"
   ]
  },
  {
   "attachments": {},
   "cell_type": "markdown",
   "metadata": {},
   "source": [
    "Rodando via Localhost através de um novo terminal python -m http.server e descobrindo o IPV4: 172.20.32.1\n",
    "Acessamos o 172.20.32.1:8000 e pegamos o link da planilha para baixar mais rápido\n",
    "\n",
    "URL=\"http://172.20.32.1:8000/yellow_tripdata_2021-01.csv.gz\"\n",
    "\n",
    "winpty docker run -it \\\n",
    "  --network=pg-network \\\n",
    "  taxi_ingest:v001 \\\n",
    "    --user=root \\\n",
    "    --password=root \\\n",
    "    --host=pg-database \\\n",
    "    --port=5432 \\\n",
    "    --db=ny_taxi \\\n",
    "    --table_name=yellow_taxi_trips \\\n",
    "    --url=${URL}"
   ]
  },
  {
   "attachments": {},
   "cell_type": "markdown",
   "metadata": {},
   "source": [
    "Adicionado nova base de dados através do arquivo upload-data utilizando wget\n",
    "Subiu automaticamente para ser visto no Pgadmin. Nova base se chama \"zone\"\n",
    "\n",
    "Agora, para rodar o Localhost:8080, abrir o Git Bash e executar:\n",
    "docker-compose up\n",
    "Assim irá executar tanto o Postgres quando o PgAdmin ao mesmo tempo.\n",
    "Quando finalizar, apertar Ctrl+C e digitar\n",
    "docker-compose down\n",
    "Assim irá fechar os containers"
   ]
  },
  {
   "attachments": {},
   "cell_type": "markdown",
   "metadata": {},
   "source": [
    "SQLs para rodar algumas queryes:\n",
    "Versão 1 - sem Join\n",
    "SELECT \n",
    "\ttpep_pickup_datetime,\n",
    "\ttpep_dropoff_datetime,\n",
    "\ttotal_amount,\n",
    "\tCONCAT(zpu.\"Borough\", ' \\ ', zpu.\"Zone\") AS \"pick_up_loc\",\n",
    "\tCONCAT(zdo.\"Borough\", ' \\ ', zdo.\"Zone\") AS \"dropoff_loc\"\n",
    "FROM \n",
    "\tyellow_taxi_trips t,\n",
    "\tzones zpu,\n",
    "\tzones zdo\n",
    "WHERE\n",
    "\tt.\"PULocationID\" = zpu.\"LocationID\" AND\n",
    "\tt.\"DOLocationID\" = zdo.\"LocationID\"\n",
    "LIMIT 100;"
   ]
  },
  {
   "attachments": {},
   "cell_type": "markdown",
   "metadata": {},
   "source": [
    "Versão 2 - Com Join\n",
    "SELECT \n",
    "\ttpep_pickup_datetime,\n",
    "\ttpep_dropoff_datetime,\n",
    "\ttotal_amount,\n",
    "\tCONCAT(zpu.\"Borough\", ' \\ ', zpu.\"Zone\") AS \"pick_up_loc\",\n",
    "\tCONCAT(zdo.\"Borough\", ' \\ ', zdo.\"Zone\") AS \"dropoff_loc\"\n",
    "FROM \n",
    "\tyellow_taxi_trips t JOIN zones zpu ON t.\"PULocationID\" = zpu.\"LocationID\"\n",
    "\tJOIN zones zdo ON t.\"DOLocationID\" = zdo.\"LocationID\"\n",
    "LIMIT 100;"
   ]
  },
  {
   "attachments": {},
   "cell_type": "markdown",
   "metadata": {},
   "source": [
    "Com Group By e Order By:\n",
    "SELECT \n",
    "\t--DATE_TRUNC('DAY', tpep_dropoff_datetime),\n",
    "\tCAST(tpep_dropoff_datetime AS DATE) as \"day\",\n",
    "\t\"DOLocationID\",\n",
    "\tCOUNT(1) as \"count\",\n",
    "\tMAX(total_amount),\n",
    "\tMAX(passenger_count)\n",
    "FROM \n",
    "\tyellow_taxi_trips t\n",
    "GROUP BY\n",
    "\t-- CAST(tpep_dropoff_datetime AS DATE)\n",
    "\t1, 2\n",
    "ORDER BY \"day\" ASC, \"DOLocationID\" ASC;"
   ]
  }
 ],
 "metadata": {
  "kernelspec": {
   "display_name": "Python 3",
   "language": "python",
   "name": "python3"
  },
  "language_info": {
   "name": "python",
   "version": "3.10.2 (tags/v3.10.2:a58ebcc, Jan 17 2022, 14:12:15) [MSC v.1929 64 bit (AMD64)]"
  },
  "orig_nbformat": 4,
  "vscode": {
   "interpreter": {
    "hash": "369f2c481f4da34e4445cda3fffd2e751bd1c4d706f27375911949ba6bb62e1c"
   }
  }
 },
 "nbformat": 4,
 "nbformat_minor": 2
}
